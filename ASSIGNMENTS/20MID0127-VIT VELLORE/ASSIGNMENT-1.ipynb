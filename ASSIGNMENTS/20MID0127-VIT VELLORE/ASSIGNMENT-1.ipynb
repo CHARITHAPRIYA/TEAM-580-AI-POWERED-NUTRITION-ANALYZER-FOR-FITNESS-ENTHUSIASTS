{
  "nbformat": 4,
  "nbformat_minor": 0,
  "metadata": {
    "colab": {
      "provenance": []
    },
    "kernelspec": {
      "name": "python3",
      "display_name": "Python 3"
    },
    "language_info": {
      "name": "python"
    }
  },
  "cells": [
    {
      "cell_type": "markdown",
      "source": [
        "AI ASSIGNMENT 1\n",
        "\n",
        "SUBMITTED BY:\n",
        "T. MEGHANA, 20MID0127, VIT VELLORE"
      ],
      "metadata": {
        "id": "-f3AvW6P8vvJ"
      }
    },
    {
      "cell_type": "markdown",
      "source": [
        "**Task - 1** Create a pandas dataframe (DataFrame name as 'df') with numpy random values (4 features and 4 observation)."
      ],
      "metadata": {
        "id": "JKFNvoGa7Z2K"
      }
    },
    {
      "cell_type": "code",
      "execution_count": null,
      "metadata": {
        "colab": {
          "base_uri": "https://localhost:8080/"
        },
        "id": "B1EgHjLL2rEZ",
        "outputId": "cce17a98-3c36-42ff-e517-c7188d1d1a98"
      },
      "outputs": [
        {
          "output_type": "stream",
          "name": "stdout",
          "text": [
            "                 Feature 1  Feature 2  Feature 3  Feature 4\n",
            "Observation 1     0.763244   0.981324   0.516502   0.271344\n",
            "Observation 2     0.364862   0.626909   0.484482   0.968001\n",
            "Observation 3     0.536632   0.573408   0.964625   0.712052\n",
            "Observation 4     0.570471   0.479043   0.514797   0.656943\n"
          ]
        }
      ],
      "source": [
        "import numpy as np\n",
        "import pandas as pd\n",
        "#generating random values\n",
        "d = np.random.rand(4, 4)\n",
        "#creating a DataFrame\n",
        "df = pd.DataFrame(d, columns=['  Feature 1', 'Feature 2', 'Feature 3', 'Feature 4'],\n",
        "     index=['Observation 1', 'Observation 2', 'Observation 3', 'Observation 4'])\n",
        "#print the DataFrame\n",
        "print(df)\n"
      ]
    },
    {
      "cell_type": "markdown",
      "source": [
        "**Task - 2**  Rename the task - 1 'df' dataframe column names to 'Random value 1', 'Random value 2', 'Random value 3' & 'Random value 4'"
      ],
      "metadata": {
        "id": "a-Ntqozx7rTO"
      }
    },
    {
      "cell_type": "code",
      "source": [
        "import numpy as np\n",
        "import pandas as pd\n",
        "#Renaming columns\n",
        "df = df.rename(columns = {'  Feature 1' : 'Random value 1',\n",
        "                          'Feature 2' : 'Random value 2',\n",
        "                          'Feature 3' : 'Random value 3',\n",
        "                          'Feature 4' : 'Random value 4'})\n",
        "#Print the DataFrame\n",
        "print(df)\n"
      ],
      "metadata": {
        "colab": {
          "base_uri": "https://localhost:8080/"
        },
        "id": "5EtVi4MV5leE",
        "outputId": "32f446fc-1dea-4592-afc5-2bc455a238e5"
      },
      "execution_count": null,
      "outputs": [
        {
          "output_type": "stream",
          "name": "stdout",
          "text": [
            "               Random value 1  Random value 2  Random value 3  Random value 4\n",
            "Observation 1        0.763244        0.981324        0.516502        0.271344\n",
            "Observation 2        0.364862        0.626909        0.484482        0.968001\n",
            "Observation 3        0.536632        0.573408        0.964625        0.712052\n",
            "Observation 4        0.570471        0.479043        0.514797        0.656943\n"
          ]
        }
      ]
    },
    {
      "cell_type": "markdown",
      "source": [
        "**Task - 3** Find the descriptive statistics of the 'df' dataframe."
      ],
      "metadata": {
        "id": "HK20Dn_-763V"
      }
    },
    {
      "cell_type": "code",
      "source": [
        "import numpy as np\n",
        "import pandas as pd\n",
        "#statistical description\n",
        "stat = df.describe()\n",
        "#print the Dataframe\n",
        "print(df)\n",
        "print('\\n')\n",
        "print(stat)\n"
      ],
      "metadata": {
        "colab": {
          "base_uri": "https://localhost:8080/"
        },
        "id": "x6XwSq5n6uuu",
        "outputId": "6303307e-1d0d-4eab-ed98-9d8b86c20665"
      },
      "execution_count": null,
      "outputs": [
        {
          "output_type": "stream",
          "name": "stdout",
          "text": [
            "               Random value 1  Random value 2  Random value 3  Random value 4\n",
            "Observation 1        0.763244        0.981324        0.516502        0.271344\n",
            "Observation 2        0.364862        0.626909        0.484482        0.968001\n",
            "Observation 3        0.536632        0.573408        0.964625        0.712052\n",
            "Observation 4        0.570471        0.479043        0.514797        0.656943\n",
            "\n",
            "\n",
            "       Random value 1  Random value 2  Random value 3  Random value 4\n",
            "count        4.000000        4.000000        4.000000        4.000000\n",
            "mean         0.558802        0.665171        0.620101        0.652085\n",
            "std          0.163337        0.219454        0.230153        0.287742\n",
            "min          0.364862        0.479043        0.484482        0.271344\n",
            "25%          0.493689        0.549817        0.507218        0.560543\n",
            "50%          0.553551        0.600159        0.515649        0.684497\n",
            "75%          0.618664        0.715513        0.628533        0.776039\n",
            "max          0.763244        0.981324        0.964625        0.968001\n"
          ]
        }
      ]
    },
    {
      "cell_type": "markdown",
      "source": [
        "**Task - 4** Check for the null values in 'df' and find the data type of the columns."
      ],
      "metadata": {
        "id": "P6t0Rx-78GiE"
      }
    },
    {
      "cell_type": "code",
      "source": [
        "import numpy as np\n",
        "import pandas as pd\n",
        "#Checking null values\n",
        "null_val = df.isnull().sum()\n",
        "#Checking data types\n",
        "data_type = df.dtypes\n",
        "#Print the DataFrame\n",
        "print(null_val)\n",
        "print('\\n')\n",
        "print(data_type)\n"
      ],
      "metadata": {
        "colab": {
          "base_uri": "https://localhost:8080/"
        },
        "id": "zePYpRsU67GW",
        "outputId": "4824bb04-e435-43e7-dce5-3c79fb2f8c6a"
      },
      "execution_count": null,
      "outputs": [
        {
          "output_type": "stream",
          "name": "stdout",
          "text": [
            "Random value 1    0\n",
            "Random value 2    0\n",
            "Random value 3    0\n",
            "Random value 4    0\n",
            "dtype: int64\n",
            "\n",
            "\n",
            "Random value 1    float64\n",
            "Random value 2    float64\n",
            "Random value 3    float64\n",
            "Random value 4    float64\n",
            "dtype: object\n"
          ]
        }
      ]
    },
    {
      "cell_type": "markdown",
      "source": [
        "**Task - 5** Display the 'Random value 2' & 'Random value 3' columns with location method and index location method."
      ],
      "metadata": {
        "id": "eTmUduno8NKn"
      }
    },
    {
      "cell_type": "code",
      "source": [
        "import numpy as np\n",
        "import pandas as pd\n",
        "#Display columns using the location method\n",
        "location_method = df[['Random value 2', 'Random value 3']]\n",
        "print(\"Columns using location method:\")\n",
        "print(location_method)\n",
        "#Display columns using the index location method\n",
        "index_location_method = df.iloc[:, 1:3]\n",
        "print(\"\\nColumns using index location method:\")\n",
        "print(index_location_method)\n"
      ],
      "metadata": {
        "colab": {
          "base_uri": "https://localhost:8080/"
        },
        "id": "utbtPsgR7InX",
        "outputId": "8388c8c2-9207-4015-ac97-c6caae0d2f02"
      },
      "execution_count": null,
      "outputs": [
        {
          "output_type": "stream",
          "name": "stdout",
          "text": [
            "Columns using location method:\n",
            "               Random value 2  Random value 3\n",
            "Observation 1        0.981324        0.516502\n",
            "Observation 2        0.626909        0.484482\n",
            "Observation 3        0.573408        0.964625\n",
            "Observation 4        0.479043        0.514797\n",
            "\n",
            "Columns using index location method:\n",
            "               Random value 2  Random value 3\n",
            "Observation 1        0.981324        0.516502\n",
            "Observation 2        0.626909        0.484482\n",
            "Observation 3        0.573408        0.964625\n",
            "Observation 4        0.479043        0.514797\n"
          ]
        }
      ]
    }
  ]
}