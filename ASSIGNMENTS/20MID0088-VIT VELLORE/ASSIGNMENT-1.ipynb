{
  "nbformat": 4,
  "nbformat_minor": 0,
  "metadata": {
    "colab": {
      "provenance": []
    },
    "kernelspec": {
      "name": "python3",
      "display_name": "Python 3"
    },
    "language_info": {
      "name": "python"
    }
  },
  "cells": [
    {
      "cell_type": "code",
      "execution_count": null,
      "metadata": {
        "colab": {
          "base_uri": "https://localhost:8080/"
        },
        "id": "b05MmOmrxYX1",
        "outputId": "7ffdf1f3-a37c-4744-d43d-0d9e05a7ed5a"
      },
      "outputs": [
        {
          "output_type": "stream",
          "name": "stdout",
          "text": [
            "               Feature 1  Feature 2  Feature 3  Feature 4\n",
            "Observation 1   0.657932   0.982234   0.545822   0.499762\n",
            "Observation 2   0.115644   0.628225   0.412312   0.903760\n",
            "Observation 3   0.370126   0.203220   0.430589   0.841957\n",
            "Observation 4   0.872857   0.391493   0.717710   0.513064\n"
          ]
        }
      ],
      "source": [
        "import numpy as np\n",
        "import pandas as pd\n",
        "#generating random values\n",
        "d = np.random.rand(4, 4)\n",
        "#creating a DataFrame\n",
        "df = pd.DataFrame(d, columns=['Feature 1', 'Feature 2', 'Feature 3', 'Feature 4'], index=['Observation 1', 'Observation 2', 'Observation 3', 'Observation 4'])\n",
        "#print the DataFrame\n",
        "print(df)"
      ]
    },
    {
      "cell_type": "code",
      "source": [
        "import numpy as np\n",
        "import pandas as pd\n",
        "#renaming columns\n",
        "df = df.rename(columns = {'Feature 1' : 'Random value 1',\n",
        "                          'Feature 2' : 'Random value 2',\n",
        "                          'Feature 3' : 'Random value 3',\n",
        "                          'Feature 4' : 'Random value 4'})\n",
        "#print the DataFrame\n",
        "print(df)"
      ],
      "metadata": {
        "colab": {
          "base_uri": "https://localhost:8080/"
        },
        "id": "8XufCkpgyBvb",
        "outputId": "e09d6a49-ee21-40ad-b093-d1a298608ba9"
      },
      "execution_count": null,
      "outputs": [
        {
          "output_type": "stream",
          "name": "stdout",
          "text": [
            "               Random value 1  Random value 2  Random value 3  Random value 4\n",
            "Observation 1        0.657932        0.982234        0.545822        0.499762\n",
            "Observation 2        0.115644        0.628225        0.412312        0.903760\n",
            "Observation 3        0.370126        0.203220        0.430589        0.841957\n",
            "Observation 4        0.872857        0.391493        0.717710        0.513064\n"
          ]
        }
      ]
    },
    {
      "cell_type": "code",
      "source": [
        "import numpy as np\n",
        "import pandas as pd\n",
        "#statistical description\n",
        "stat = df.describe()\n",
        "#print the Dataframe\n",
        "print(df)\n",
        "print('\\n')\n",
        "print(stat)"
      ],
      "metadata": {
        "colab": {
          "base_uri": "https://localhost:8080/"
        },
        "id": "nXQqC4cLyHzK",
        "outputId": "aca69407-fbb2-49e5-bef0-21adfa8d4097"
      },
      "execution_count": null,
      "outputs": [
        {
          "output_type": "stream",
          "name": "stdout",
          "text": [
            "               Random value 1  Random value 2  Random value 3  Random value 4\n",
            "Observation 1        0.657932        0.982234        0.545822        0.499762\n",
            "Observation 2        0.115644        0.628225        0.412312        0.903760\n",
            "Observation 3        0.370126        0.203220        0.430589        0.841957\n",
            "Observation 4        0.872857        0.391493        0.717710        0.513064\n",
            "\n",
            "\n",
            "       Random value 1  Random value 2  Random value 3  Random value 4\n",
            "count        4.000000        4.000000        4.000000        4.000000\n",
            "mean         0.504140        0.551293        0.526608        0.689636\n",
            "std          0.330904        0.335817        0.140443        0.213136\n",
            "min          0.115644        0.203220        0.412312        0.499762\n",
            "25%          0.306506        0.344425        0.426020        0.509739\n",
            "50%          0.514029        0.509859        0.488206        0.677511\n",
            "75%          0.711663        0.716727        0.588794        0.857408\n",
            "max          0.872857        0.982234        0.717710        0.903760\n"
          ]
        }
      ]
    },
    {
      "cell_type": "code",
      "source": [
        "import numpy as np\n",
        "import pandas as pd\n",
        "#checking the null values\n",
        "null_val = df.isnull().sum()\n",
        "#checking data types\n",
        "data_type = df.dtypes\n",
        "#print the DataFrame\n",
        "print(null_val)\n",
        "print('\\n')\n",
        "print(data_type)"
      ],
      "metadata": {
        "colab": {
          "base_uri": "https://localhost:8080/"
        },
        "id": "RASaQij6yL9U",
        "outputId": "0fc2b7e0-13c1-420d-fce9-48474eb6b0fd"
      },
      "execution_count": null,
      "outputs": [
        {
          "output_type": "stream",
          "name": "stdout",
          "text": [
            "Random value 1    0\n",
            "Random value 2    0\n",
            "Random value 3    0\n",
            "Random value 4    0\n",
            "dtype: int64\n",
            "\n",
            "\n",
            "Random value 1    float64\n",
            "Random value 2    float64\n",
            "Random value 3    float64\n",
            "Random value 4    float64\n",
            "dtype: object\n"
          ]
        }
      ]
    },
    {
      "cell_type": "code",
      "source": [
        "import numpy as np\n",
        "import pandas as pd\n",
        "#display columns using the location method\n",
        "location_method = df[['Random value 2', 'Random value 3']]\n",
        "print(\"Columns using location method:\")\n",
        "print(location_method)\n",
        "#display columns using the index location method\n",
        "index_location_method = df.iloc[:, 1:3]\n",
        "print(\"\\nColumns using index location method:\")\n",
        "print(index_location_method)"
      ],
      "metadata": {
        "colab": {
          "base_uri": "https://localhost:8080/"
        },
        "id": "2YOAj-5iyO-T",
        "outputId": "16f8026c-c8bb-4d27-b784-749a86427e55"
      },
      "execution_count": null,
      "outputs": [
        {
          "output_type": "stream",
          "name": "stdout",
          "text": [
            "Columns using location method:\n",
            "               Random value 2  Random value 3\n",
            "Observation 1        0.982234        0.545822\n",
            "Observation 2        0.628225        0.412312\n",
            "Observation 3        0.203220        0.430589\n",
            "Observation 4        0.391493        0.717710\n",
            "\n",
            "Columns using index location method:\n",
            "               Random value 2  Random value 3\n",
            "Observation 1        0.982234        0.545822\n",
            "Observation 2        0.628225        0.412312\n",
            "Observation 3        0.203220        0.430589\n",
            "Observation 4        0.391493        0.717710\n"
          ]
        }
      ]
    }
  ]
}