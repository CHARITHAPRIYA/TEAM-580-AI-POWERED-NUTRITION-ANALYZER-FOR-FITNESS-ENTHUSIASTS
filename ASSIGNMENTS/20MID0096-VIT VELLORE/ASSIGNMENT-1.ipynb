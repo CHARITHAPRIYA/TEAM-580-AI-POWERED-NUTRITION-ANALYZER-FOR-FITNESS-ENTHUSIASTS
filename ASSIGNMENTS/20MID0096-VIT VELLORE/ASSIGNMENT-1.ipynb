{
  "nbformat": 4,
  "nbformat_minor": 0,
  "metadata": {
    "colab": {
      "provenance": []
    },
    "kernelspec": {
      "name": "python3",
      "display_name": "Python 3"
    },
    "language_info": {
      "name": "python"
    }
  },
  "cells": [
    {
      "cell_type": "code",
      "source": [
        "import numpy as np\n",
        "import pandas as pd\n",
        "#generating random values\n",
        "d = np.random.rand(4, 4)\n",
        "#creating a DataFrame\n",
        "df = pd.DataFrame(d, columns=['Feature 1', 'Feature 2', 'Feature 3', 'Feature 4'], index=['Observation 1', 'Observation 2', 'Observation 3', 'Observation 4'])\n",
        "#print the DataFrame\n",
        "print(df)\n"
      ],
      "metadata": {
        "colab": {
          "base_uri": "https://localhost:8080/"
        },
        "id": "7aLW4Vb-Kk3l",
        "outputId": "ab34cbd8-7876-4fe7-c794-1399440d29f4"
      },
      "execution_count": null,
      "outputs": [
        {
          "output_type": "stream",
          "name": "stdout",
          "text": [
            "               Feature 1  Feature 2  Feature 3  Feature 4\n",
            "Observation 1   0.041538   0.253888   0.818143   0.685842\n",
            "Observation 2   0.519841   0.243417   0.290985   0.733164\n",
            "Observation 3   0.741291   0.490810   0.679926   0.796472\n",
            "Observation 4   0.087691   0.800797   0.123491   0.548831\n"
          ]
        }
      ]
    },
    {
      "cell_type": "code",
      "source": [
        "import numpy as np\n",
        "import pandas as pd\n",
        "#renaming columns\n",
        "df = df.rename(columns = {'Feature 1' : 'Random value 1',\n",
        "                          'Feature 2' : 'Random value 2',\n",
        "                          'Feature 3' : 'Random value 3',\n",
        "                          'Feature 4' : 'Random value 4'})\n",
        "#print the DataFrame\n",
        "print(df)"
      ],
      "metadata": {
        "colab": {
          "base_uri": "https://localhost:8080/"
        },
        "id": "AOnEd8BSMxfz",
        "outputId": "2f107075-db1e-47de-eaff-87997a808983"
      },
      "execution_count": null,
      "outputs": [
        {
          "output_type": "stream",
          "name": "stdout",
          "text": [
            "               Random value 1  Random value 2  Random value 3  Random value 4\n",
            "Observation 1        0.041538        0.253888        0.818143        0.685842\n",
            "Observation 2        0.519841        0.243417        0.290985        0.733164\n",
            "Observation 3        0.741291        0.490810        0.679926        0.796472\n",
            "Observation 4        0.087691        0.800797        0.123491        0.548831\n"
          ]
        }
      ]
    },
    {
      "cell_type": "code",
      "source": [
        "import numpy as np\n",
        "import pandas as pd\n",
        "#statistical description\n",
        "stat = df.describe()\n",
        "#print the Dataframe\n",
        "print(df)\n",
        "print('\\n')\n",
        "print(stat)\n"
      ],
      "metadata": {
        "colab": {
          "base_uri": "https://localhost:8080/"
        },
        "id": "_kdudgJmNfE6",
        "outputId": "8c2e22ec-0eb9-4fff-ad11-a49bf2d39b58"
      },
      "execution_count": null,
      "outputs": [
        {
          "output_type": "stream",
          "name": "stdout",
          "text": [
            "               Random value 1  Random value 2  Random value 3  Random value 4\n",
            "Observation 1        0.041538        0.253888        0.818143        0.685842\n",
            "Observation 2        0.519841        0.243417        0.290985        0.733164\n",
            "Observation 3        0.741291        0.490810        0.679926        0.796472\n",
            "Observation 4        0.087691        0.800797        0.123491        0.548831\n",
            "\n",
            "\n",
            "       Random value 1  Random value 2  Random value 3  Random value 4\n",
            "count        4.000000        4.000000        4.000000        4.000000\n",
            "mean         0.347590        0.447228        0.478136        0.691077\n",
            "std          0.339552        0.261935        0.325127        0.105104\n",
            "min          0.041538        0.243417        0.123491        0.548831\n",
            "25%          0.076153        0.251271        0.249111        0.651589\n",
            "50%          0.303766        0.372349        0.485455        0.709503\n",
            "75%          0.575204        0.568307        0.714480        0.748991\n",
            "max          0.741291        0.800797        0.818143        0.796472\n"
          ]
        }
      ]
    },
    {
      "cell_type": "code",
      "source": [
        "import numpy as np\n",
        "import pandas as pd\n",
        "#checking the null values\n",
        "null_val = df.isnull().sum()\n",
        "#checking data types\n",
        "data_type = df.dtypes\n",
        "#print the DataFrame\n",
        "print(null_val)\n",
        "print('\\n')\n",
        "print(data_type)\n"
      ],
      "metadata": {
        "colab": {
          "base_uri": "https://localhost:8080/"
        },
        "id": "XpIeqsljOZYg",
        "outputId": "db11b348-95d3-48af-9b2b-938664d29b03"
      },
      "execution_count": null,
      "outputs": [
        {
          "output_type": "stream",
          "name": "stdout",
          "text": [
            "Random value 1    0\n",
            "Random value 2    0\n",
            "Random value 3    0\n",
            "Random value 4    0\n",
            "dtype: int64\n",
            "\n",
            "\n",
            "Random value 1    float64\n",
            "Random value 2    float64\n",
            "Random value 3    float64\n",
            "Random value 4    float64\n",
            "dtype: object\n"
          ]
        }
      ]
    },
    {
      "cell_type": "code",
      "source": [
        "import numpy as np\n",
        "import pandas as pd\n",
        "#display columns using the location method\n",
        "location_method = df[['Random value 2', 'Random value 3']]\n",
        "print(\"Columns using location method:\")\n",
        "print(location_method)\n",
        "#display columns using the index location method\n",
        "index_location_method = df.iloc[:, 1:3]\n",
        "print(\"\\nColumns using index location method:\")\n",
        "print(index_location_method)\n"
      ],
      "metadata": {
        "colab": {
          "base_uri": "https://localhost:8080/"
        },
        "id": "lyrCF_uWOqy0",
        "outputId": "9717394b-ac92-4ad3-b014-af6b7f696a5b"
      },
      "execution_count": null,
      "outputs": [
        {
          "output_type": "stream",
          "name": "stdout",
          "text": [
            "Columns using location method:\n",
            "               Random value 2  Random value 3\n",
            "Observation 1        0.253888        0.818143\n",
            "Observation 2        0.243417        0.290985\n",
            "Observation 3        0.490810        0.679926\n",
            "Observation 4        0.800797        0.123491\n",
            "\n",
            "Columns using index location method:\n",
            "               Random value 2  Random value 3\n",
            "Observation 1        0.253888        0.818143\n",
            "Observation 2        0.243417        0.290985\n",
            "Observation 3        0.490810        0.679926\n",
            "Observation 4        0.800797        0.123491\n"
          ]
        }
      ]
    }
  ]
}